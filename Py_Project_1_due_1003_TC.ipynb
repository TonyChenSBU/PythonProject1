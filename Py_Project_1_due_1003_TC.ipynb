{
  "metadata": {
    "anaconda-cloud": {},
    "colab": {
      "provenance": []
    },
    "kernelspec": {
      "name": "python",
      "display_name": "Python (Pyodide)",
      "language": "python"
    },
    "language_info": {
      "codemirror_mode": {
        "name": "python",
        "version": 3
      },
      "file_extension": ".py",
      "mimetype": "text/x-python",
      "name": "python",
      "nbconvert_exporter": "python",
      "pygments_lexer": "ipython3",
      "version": "3.8"
    }
  },
  "nbformat_minor": 0,
  "nbformat": 4,
  "cells": [
    {
      "cell_type": "markdown",
      "source": [
        "# Python Assignment 1"
      ],
      "metadata": {
        "id": "xq__bChjD04e"
      }
    },
    {
      "cell_type": "markdown",
      "source": [
        "⏱⏱⏱**Due: 10/03/2023 11:59 PM** ⏱⏱⏱\n",
        "\n",
        "Submit this notebook file and upload it to your git repo. Include a link to your git repo while submitting this file to Brightspace.\n",
        "\n",
        "You are not allowed to use chatgpt or any LLM in this assignment.\n",
        "Cooperation is allowed and encouraged; however, you must write up and submit your own work. If you cooperate with others, you must list their names here."
      ],
      "metadata": {
        "id": "y7j2V0UDMYLG"
      }
    },
    {
      "cell_type": "markdown",
      "source": [
        "(100 points total)"
      ],
      "metadata": {
        "id": "SUS30Ew9D04n"
      }
    },
    {
      "cell_type": "markdown",
      "source": [
        "## 0. Data Types, Structures, Indexing, and Slicing"
      ],
      "metadata": {
        "id": "b_bgT3b2GYTB"
      }
    },
    {
      "cell_type": "markdown",
      "source": [
        "Read the lecutre note as well as [this page](https://www.geeksforgeeks.org/mutable-vs-immutable-objects-in-python/) and [this page](https://www.geeksforgeeks.org/difference-between-shallow-and-deep-copy-of-a-class/). Complete the following questions.\n",
        "\n",
        "(5 points) Give some examples (at least 2) of mutable objects in Python.\n",
        "\n",
        "***Answer: Lists, Dictionaries, Sets***\n",
        "\n",
        "\n",
        "---\n",
        "\n",
        "\n",
        "\n",
        "(5 points) Give some examples (at least 2) of immutable objects in Python.\n",
        "\n",
        "***Answer: Built-in datatypes like int, float, bool, string. Tuples and Frozenset***\n",
        "\n",
        "\n",
        "---\n",
        "\n",
        "\n",
        "\n",
        "(10 points) State the differences between assignment, shallow copy, and deep copy. Any reasonable answer will get full credit.\n",
        "\n",
        "***Answer: Assignment in Python creates a new reference to an existing object, meaning that both the original variable and the newly assigned variable point to the same object in memory. Changes made to one variable will affect the other since they refer to the same underlying object.***\n",
        "\n",
        "***Shallow copy, on the other hand, creates a new object, but it doesn't duplicate the elements within a container object. This means that for objects like lists of lists, the outer list is duplicated, but the inner objects are still referenced.***\n",
        "\n",
        "***Deep copy, however, creates a new object and recursively creates copies of all objects found within the original. This means that both the container and the elements within it are duplicated, so changes made in one won't affect the other.***\n",
        "\n",
        "***In summary, assignment creates another reference to the same object, shallow copy creates a new container object but not new elements within it, and deep copy copies everything by creating new objects, which is independent from the original object.***\n",
        "\n",
        "\n",
        "---\n",
        "\n",
        "\n",
        "\n"
      ],
      "metadata": {
        "id": "6yI1Jt57IwV2"
      }
    },
    {
      "cell_type": "markdown",
      "source": [
        "(10 points) Using string methods find() and rfind(), find the index of the first digit (i.e. 0) and the index of the last digit (5) in the string below. Then, using string slicing, extract the number (i.e. 0.595595) from this string and convert the extracted value to a floating point number. Print out this float to the console."
      ],
      "metadata": {
        "id": "OA8DxcrrGqZD"
      }
    },
    {
      "cell_type": "code",
      "source": [
        "text = \"F-DGFDDSFGFD-CFDSHdstgfdfe: tfsd  aaa bdsf 0.595595 fdsgfdbc\";\n",
        "# Find the index of 0\n",
        "first_index = text.find('0')\n",
        "\n",
        "# Find the index of 5\n",
        "last_index = text.rfind('5')\n",
        "\n",
        "# Use string slicing to get number,+1 because of indexing in Python\n",
        "extracted_number = text[first_index:last_index+1]\n",
        "\n",
        "# Convert the extracted value to a floating point number\n",
        "extracted_number_float = float(extracted_number)\n",
        "\n",
        "# Print out the float to the console\n",
        "print(extracted_number_float)"
      ],
      "metadata": {
        "id": "AUuFXXWqG4D3",
        "trusted": true,
        "colab": {
          "base_uri": "https://localhost:8080/"
        },
        "outputId": "e22940c3-226f-4d59-afdf-2710026ba96d"
      },
      "execution_count": null,
      "outputs": [
        {
          "output_type": "stream",
          "name": "stdout",
          "text": [
            "0.595595\n"
          ]
        }
      ]
    },
    {
      "cell_type": "markdown",
      "source": [
        "## 1. Conditional Statements\n",
        "\n",
        "(10 points)\n",
        "Translate the following MATLAB code into Python using `if-elif-else`.\n",
        "```\n",
        "n = input('Enter a number: ');\n",
        "\n",
        "switch n\n",
        "    case -1\n",
        "        disp('negative one')\n",
        "    case 0\n",
        "        disp('zero')\n",
        "    case 1\n",
        "        disp('positive one')\n",
        "    otherwise\n",
        "        disp('other value')\n",
        "end\n",
        "```"
      ],
      "metadata": {
        "id": "cnCljYgpD04p"
      }
    },
    {
      "cell_type": "code",
      "source": [
        "# Get input from user\n",
        "n = input('Enter a number: ')\n",
        "\n",
        "# Change input from String to Int\n",
        "n = int(n)\n",
        "\n",
        "# Go through Case -1,0,1\n",
        "if n == -1:\n",
        "    print('negative one')\n",
        "elif n == 0:\n",
        "    print('zero')\n",
        "elif n == 1:\n",
        "    print('positive one')\n",
        "else:\n",
        "    print('other value')\n"
      ],
      "metadata": {
        "id": "9d8vl5zjD04q",
        "tags": [],
        "trusted": true,
        "colab": {
          "base_uri": "https://localhost:8080/"
        },
        "outputId": "9a0b9b80-1e9f-4491-fa1f-6306843a2f13"
      },
      "execution_count": null,
      "outputs": [
        {
          "output_type": "stream",
          "name": "stdout",
          "text": [
            "Enter a number: 2\n",
            "other value\n"
          ]
        }
      ]
    },
    {
      "cell_type": "markdown",
      "source": [
        "## 2. While Loops\n",
        "\n",
        "(10 points) Write a Python program that calculates the factorial of a given number (you can assume an positive integer) using a while loop. Display the result to the console."
      ],
      "metadata": {
        "id": "sW9XiUPpD04s"
      }
    },
    {
      "cell_type": "code",
      "source": [
        "def calculate_factorial(n):\n",
        "    factorial = 1\n",
        "    while n > 0:\n",
        "      # If not 1, then we multiply the current factorial by n and reduce n by 1\n",
        "        factorial *= n\n",
        "        n -= 1\n",
        "    return factorial\n",
        "\n",
        "# Ask the user for a positive integer\n",
        "while True:\n",
        "    try:\n",
        "        user_input = int(input(\"Please enter a positive integer: \"))\n",
        "        if user_input > 0:\n",
        "            break\n",
        "        else:\n",
        "        #int is <= 0\n",
        "            print(\"Please enter a positive integer and try again\")\n",
        "    # Check if input is not of int type like 'a'\n",
        "    except ValueError:\n",
        "        print(\"Invalid input. Please enter a positive integer.\")\n",
        "\n",
        "# Calculate the factorial\n",
        "result = calculate_factorial(user_input)\n",
        "\n",
        "# Display the result\n",
        "print(f\"The factorial of {user_input} is: {result}\")\n",
        "\n",
        "\n",
        "# test cases\n",
        "# n = 17, Output: 355687428096000\n",
        "# n = 13, Output: 6227020800\n",
        "# n = 6, Output: 720\n",
        "# n = 1, Output: 1\n",
        "# n = 2, Output: 2\n",
        "# n = 3, Output: 6"
      ],
      "metadata": {
        "id": "CRCERx8uD04t",
        "colab": {
          "base_uri": "https://localhost:8080/"
        },
        "outputId": "bc622603-99f9-4286-94b7-9c2bf20ffa6b",
        "tags": [],
        "trusted": true
      },
      "execution_count": 28,
      "outputs": [
        {
          "output_type": "stream",
          "name": "stdout",
          "text": [
            "Please enter a positive integer: 3\n",
            "The factorial of 3 is: 6\n"
          ]
        }
      ]
    },
    {
      "cell_type": "markdown",
      "source": [
        "## 3. Functions\n",
        "\n",
        "(10 points) Write a function that determines if a number is prime."
      ],
      "metadata": {
        "id": "ZQ5SVMq6D04w"
      }
    },
    {
      "cell_type": "code",
      "source": [
        "def is_prime(n):\n",
        "    # 1,0,-1-2,..etc. are not considered to by primes, by definition of prime.\n",
        "    if not isinstance(n, int):\n",
        "        return False\n",
        "    if n <2:\n",
        "        return False\n",
        "    for i in range(2, n):\n",
        "        if n % i == 0: # Check to see if divisble by i, for every i\n",
        "            return False\n",
        "    return True\n",
        "\n",
        "\n",
        "\n",
        "# test cases\n",
        "print(is_prime(2))      # Output: True\n",
        "print(is_prime(3))      # Output: True\n",
        "print(is_prime(4))      # Output: False\n",
        "print(is_prime(10))     # Output: False\n",
        "print(is_prime(17))     # Output: True\n",
        "print(is_prime(-1)) # Output: False (Negative numbers are not considered prime)\n",
        "print(is_prime(1))    # Output: False, 1 is not a prime number\n",
        "print(is_prime(0))    # Output: False, 0 is not a prime number\n",
        "print(is_prime('a'))    # Output: False, 'a' is not a prime number\n",
        "print(is_prime(2.5))    # Output: False, 2.5 is not a prime number\n"
      ],
      "metadata": {
        "id": "6rGP5G3_D04x",
        "colab": {
          "base_uri": "https://localhost:8080/"
        },
        "outputId": "2a5255cd-866e-4e7d-914b-7a78cbe554b1",
        "trusted": true
      },
      "execution_count": 27,
      "outputs": [
        {
          "output_type": "stream",
          "name": "stdout",
          "text": [
            "True\n",
            "True\n",
            "False\n",
            "False\n",
            "True\n",
            "False\n",
            "False\n",
            "False\n",
            "False\n",
            "False\n"
          ]
        }
      ]
    },
    {
      "cell_type": "markdown",
      "source": [
        "## 4. List Comprehension\n",
        "\n",
        "(10 points) Write a Python function called `prime_factors` that takes a relatively small integer as input and returns a list of its distinct prime factors. The function should use list comprehension to generate the list of distinct prime factors. You may use the function is_prime() defined in Q3.\n"
      ],
      "metadata": {
        "id": "Z6qg-fpQD04u"
      }
    },
    {
      "cell_type": "code",
      "source": [
        "# Function to check if a number is prime\n",
        "def is_prime(num):\n",
        "    if num <= 1:\n",
        "        return False\n",
        "    for i in range(2, num):\n",
        "        if num % i == 0:\n",
        "            return False\n",
        "    return True\n",
        "\n",
        "def prime_factors(n):\n",
        "    #Input must but ints, otherwise return empty list []\n",
        "    if not isinstance(n, int):\n",
        "        return []\n",
        "    factors = []  # Create an empty list to store the factors\n",
        "\n",
        "    for i in range(2, n + 1):  # Loop through numbers from 2 to n (inclusive)\n",
        "        if is_prime(i) and n % i == 0:  # Check if i is a prime factor of n\n",
        "            factors.append(i)  # If it is, add it to the list of factors\n",
        "\n",
        "    return factors  # Return the list of prime factors\n",
        "\n",
        "\n",
        "# test cases\n",
        "print(prime_factors(30))  # Output: [2, 3, 5]\n",
        "print(prime_factors(56))  # Output: [2, 7]\n",
        "print(prime_factors(198))  # Output: [2, 3, 11]\n",
        "print(prime_factors(464))  # Output: [2, 29]\n",
        "\n",
        "\n",
        "print(prime_factors(56))   # Output: [2, 7]\n",
        "print(prime_factors(30))   # Output: [2, 3, 5]\n",
        "print(prime_factors(2))   # Output: [2]\n",
        "print(prime_factors(1))   # Output: [] empty because by definition,\n",
        "                          # primes are > 1\n",
        "                #https://en.wikipedia.org/wiki/Table_of_prime_factors#1_to_100\n",
        "\n",
        "\n",
        "print(prime_factors(0))   #Output: [] because primes are > 1\n",
        "print(prime_factors(-1)) #Output: [] because primes are > 1\n",
        "print(prime_factors(-2)) #Output: [] because primes are > 1\n",
        "print(prime_factors(-3)) #Output: [] because primes are > 1\n",
        "print(prime_factors('a')) #Output: [] because inputs must be ints"
      ],
      "metadata": {
        "id": "2hSCjYlOD04v",
        "colab": {
          "base_uri": "https://localhost:8080/"
        },
        "outputId": "a71dec7d-4b23-4bb5-9b99-d26fdd458a43",
        "tags": [],
        "trusted": true
      },
      "execution_count": 26,
      "outputs": [
        {
          "output_type": "stream",
          "name": "stdout",
          "text": [
            "[2, 3, 5]\n",
            "[2, 7]\n",
            "[2, 3, 11]\n",
            "[2, 29]\n",
            "[2, 7]\n",
            "[2, 3, 5]\n",
            "[2]\n",
            "[]\n",
            "[]\n",
            "[]\n",
            "[]\n",
            "[]\n",
            "[]\n"
          ]
        }
      ]
    },
    {
      "cell_type": "markdown",
      "source": [
        "## 5. Recursive Functions\n",
        "(25 points) Write a function that uses recursion to generate the $n$th row of the Pascal's triangle.\n",
        "```\n",
        "              1\n",
        "           1     1\n",
        "        1     2     1\n",
        "      1    3     3     1\n",
        "   1    4     6     4    1\n",
        "1     5    10    10    5    1\n",
        "...\n",
        "...\n",
        "...\n",
        "```"
      ],
      "metadata": {
        "id": "dw4kZZCiD040"
      }
    },
    {
      "cell_type": "code",
      "source": [
        "def pascal(n):\n",
        "    if not isinstance(n, int):\n",
        "        return []\n",
        "    # Base Case: If n is 1, return a list with a single element, which is [1]\n",
        "    if n == 1:\n",
        "        return [1]\n",
        "    elif n == 2:\n",
        "        return [1, 1]\n",
        "    # If index is not within our bounds of >= 1, then give empty []\n",
        "    elif n <= 0:\n",
        "        return []\n",
        "    else:\n",
        "        # Recursive step: Get the previous row of Pascal's triangle\n",
        "        previous_row = pascal(n - 1)\n",
        "\n",
        "        # Set the current row with the first element as 1\n",
        "        current_row = [1]\n",
        "\n",
        "        # Get the middle elements of the current row\n",
        "        for i in range(1, n-1):\n",
        "            # Each middle element is the sum of two elements\n",
        "            # from the previous row by Pascal's identity\n",
        "            current_row.append(previous_row[i - 1] + previous_row[i])\n",
        "\n",
        "        # Add the last element as 1\n",
        "        current_row.append(1)\n",
        "\n",
        "        # Return the row we constructed [1 , (middle) , 1]\n",
        "        return current_row\n",
        "\n",
        "# test cases\n",
        "print(pascal(6))  # output [1, 5, 10, 10, 5, 1]\n",
        "print(pascal(1))  # output [1]\n",
        "print(pascal(2))  # output [1, 1]\n",
        "print(pascal(3))  # output [1, 2, 1]\n",
        "print(pascal(4))  # output [1, 3, 3, 1]\n",
        "print(pascal(5))  # output [1, 4, 6, 4, 1]\n",
        "print(pascal(0))  # output []\n",
        "print(pascal(-1))  # output []\n",
        "print(pascal(10))  # output [1, 9, 36, 84, 126, 126, 84, 36, 9, 1]\n",
        "print(pascal('a'))  # output []b/c user must enter int\n"
      ],
      "metadata": {
        "id": "V8QFB_gKD040",
        "colab": {
          "base_uri": "https://localhost:8080/"
        },
        "outputId": "190e2dda-9d77-4e67-b326-bca5fac65ce5",
        "trusted": true
      },
      "execution_count": 25,
      "outputs": [
        {
          "output_type": "stream",
          "name": "stdout",
          "text": [
            "[1, 5, 10, 10, 5, 1]\n",
            "[1]\n",
            "[1, 1]\n",
            "[1, 2, 1]\n",
            "[1, 3, 3, 1]\n",
            "[1, 4, 6, 4, 1]\n",
            "[]\n",
            "[]\n",
            "[1, 9, 36, 84, 126, 126, 84, 36, 9, 1]\n",
            "[]\n"
          ]
        }
      ]
    },
    {
      "cell_type": "markdown",
      "source": [
        "Rewrite the above function using only `while` or `for` loops instead of recursion."
      ],
      "metadata": {
        "id": "eZytgm0qD041"
      }
    },
    {
      "cell_type": "code",
      "source": [
        "def pascal_by_loops(n):\n",
        "    if not isinstance(n, int):\n",
        "        return []\n",
        "    # Base Case: If n is 1, return a list with a single element, which is [1]\n",
        "    if n == 1:\n",
        "        return [1]\n",
        "    # If user enters int that is not within bounds, give empty list[]\n",
        "    if n <= 0:\n",
        "        return []\n",
        "\n",
        "    current_row = [1]  # Set the current row with the first element as 1\n",
        "\n",
        "    for i in range(1, n + 1):  # Go through the rows of Pascal's triangle\n",
        "        # Make a copy of the current row to use as the previous row\n",
        "        previous_row = current_row[:]\n",
        "\n",
        "        # Set the new current row with the first element as 1\n",
        "        current_row = [1]\n",
        "\n",
        "\n",
        "        # Go through the middle elements of the current row\n",
        "        for j in range(1, i-1):\n",
        "        # Each middle element is the sum of two elements from the previous row\n",
        "            current_row.append(previous_row[j-1] + previous_row[j])\n",
        "\n",
        "        # Add the last element as 1\n",
        "        current_row.append(1)\n",
        "\n",
        "    return current_row  # Return the row we constructed [1 , (middle) , 1]\n",
        "\n",
        "# Test case\n",
        "print(pascal_by_loops(6))  # Output: [1, 5, 10, 10, 5, 1]\n",
        "print(pascal_by_loops(1))  # output [1]\n",
        "print(pascal_by_loops(2))  # output [1, 1]\n",
        "print(pascal_by_loops(3))  # output [1, 2, 1]\n",
        "print(pascal_by_loops(4))  # output [1, 3, 3, 1]\n",
        "print(pascal_by_loops(5))  # output [1, 4,6,4,1]\n",
        "print(pascal_by_loops(0))  # output []\n",
        "print(pascal_by_loops(-1))  # output []\n",
        "print(pascal_by_loops('a'))  # output [] because user must enter int\n",
        "print(pascal_by_loops(10)) # output [1, 9, 36, 84, 126, 126, 84, 36, 9, 1]"
      ],
      "metadata": {
        "id": "UZ8f-akaD041",
        "colab": {
          "base_uri": "https://localhost:8080/"
        },
        "outputId": "07afc2d1-516b-4b85-ee4d-9467e44f7214",
        "tags": [],
        "trusted": true
      },
      "execution_count": 24,
      "outputs": [
        {
          "output_type": "stream",
          "name": "stdout",
          "text": [
            "[1, 5, 10, 10, 5, 1]\n",
            "[1]\n",
            "[1, 1]\n",
            "[1, 2, 1]\n",
            "[1, 3, 3, 1]\n",
            "[1, 4, 6, 4, 1]\n",
            "[]\n",
            "[]\n",
            "[]\n",
            "[1, 9, 36, 84, 126, 126, 84, 36, 9, 1]\n"
          ]
        }
      ]
    },
    {
      "cell_type": "markdown",
      "source": [
        "\n",
        "\n",
        "---\n",
        "\n",
        "\n",
        "（5 points) good coding practice and properly submitting your work to GitHub."
      ],
      "metadata": {
        "id": "HvHD6QHzVo9I"
      }
    },
    {
      "cell_type": "code",
      "source": [],
      "metadata": {
        "id": "PfDaVjR3D9oH"
      },
      "execution_count": null,
      "outputs": []
    },
    {
      "cell_type": "code",
      "source": [],
      "metadata": {
        "id": "u2_y4RicD9oH"
      },
      "execution_count": null,
      "outputs": []
    },
    {
      "cell_type": "code",
      "source": [],
      "metadata": {
        "id": "GgBzI_rLD9oH"
      },
      "execution_count": null,
      "outputs": []
    }
  ]
}